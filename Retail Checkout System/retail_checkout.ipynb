{
 "cells": [
  {
   "cell_type": "code",
   "execution_count": 7,
   "metadata": {},
   "outputs": [],
   "source": [
    "import cv2 as cv\n",
    "import torch\n",
    "from ultralytics import YOLO"
   ]
  },
  {
   "cell_type": "code",
   "execution_count": 9,
   "metadata": {},
   "outputs": [],
   "source": [
    "model_path = \"../models/yolo11x.pt\"\n",
    "model = YOLO(model_path)"
   ]
  },
  {
   "cell_type": "code",
   "execution_count": 10,
   "metadata": {},
   "outputs": [
    {
     "name": "stdout",
     "output_type": "stream",
     "text": [
      "\n",
      "image 1/1 d:\\mr_document\\Git Projects\\YOLO-Projects\\Retail Checkout System\\..\\Resource\\Photos\\chole-bhature-recipe.jpg: 384x640 1 bowl, 1 dining table, 552.0ms\n",
      "Speed: 2.2ms preprocess, 552.0ms inference, 1.9ms postprocess per image at shape (1, 3, 384, 640)\n",
      "ultralytics.engine.results.Boxes object with attributes:\n",
      "\n",
      "cls: tensor([45., 60.])\n",
      "conf: tensor([0.9182, 0.8227])\n",
      "data: tensor([[9.4470e+02, 2.1315e+02, 1.5732e+03, 7.5785e+02, 9.1817e-01, 4.5000e+01],\n",
      "        [3.8156e+00, 7.2610e+00, 1.9106e+03, 1.0685e+03, 8.2267e-01, 6.0000e+01]])\n",
      "id: None\n",
      "is_track: False\n",
      "orig_shape: (1080, 1920)\n",
      "shape: torch.Size([2, 6])\n",
      "xywh: tensor([[1258.9580,  485.4984,  628.5245,  544.6978],\n",
      "        [ 957.2093,  537.8963, 1906.7875, 1061.2706]])\n",
      "xywhn: tensor([[0.6557, 0.4495, 0.3274, 0.5043],\n",
      "        [0.4985, 0.4981, 0.9931, 0.9827]])\n",
      "xyxy: tensor([[ 944.6957,  213.1495, 1573.2202,  757.8472],\n",
      "        [   3.8156,    7.2610, 1910.6030, 1068.5316]])\n",
      "xyxyn: tensor([[0.4920, 0.1974, 0.8194, 0.7017],\n",
      "        [0.0020, 0.0067, 0.9951, 0.9894]])\n"
     ]
    }
   ],
   "source": [
    "results = model.predict('../Resource/Photos/chole-bhature-recipe.jpg')\n",
    "for result in results:\n",
    "    print(result.boxes)"
   ]
  },
  {
   "cell_type": "code",
   "execution_count": 14,
   "metadata": {},
   "outputs": [
    {
     "name": "stdout",
     "output_type": "stream",
     "text": [
      "bowl ultralytics.engine.results.Boxes object with attributes:\n",
      "\n",
      "cls: tensor([45.])\n",
      "conf: tensor([0.9182])\n",
      "data: tensor([[9.4470e+02, 2.1315e+02, 1.5732e+03, 7.5785e+02, 9.1817e-01, 4.5000e+01]])\n",
      "id: None\n",
      "is_track: False\n",
      "orig_shape: (1080, 1920)\n",
      "shape: torch.Size([1, 6])\n",
      "xywh: tensor([[1258.9580,  485.4984,  628.5245,  544.6978]])\n",
      "xywhn: tensor([[0.6557, 0.4495, 0.3274, 0.5043]])\n",
      "xyxy: tensor([[ 944.6957,  213.1495, 1573.2202,  757.8472]])\n",
      "xyxyn: tensor([[0.4920, 0.1974, 0.8194, 0.7017]])\n",
      "dining table ultralytics.engine.results.Boxes object with attributes:\n",
      "\n",
      "cls: tensor([60.])\n",
      "conf: tensor([0.8227])\n",
      "data: tensor([[3.8156e+00, 7.2610e+00, 1.9106e+03, 1.0685e+03, 8.2267e-01, 6.0000e+01]])\n",
      "id: None\n",
      "is_track: False\n",
      "orig_shape: (1080, 1920)\n",
      "shape: torch.Size([1, 6])\n",
      "xywh: tensor([[ 957.2093,  537.8963, 1906.7875, 1061.2706]])\n",
      "xywhn: tensor([[0.4985, 0.4981, 0.9931, 0.9827]])\n",
      "xyxy: tensor([[   3.8156,    7.2610, 1910.6030, 1068.5316]])\n",
      "xyxyn: tensor([[0.0020, 0.0067, 0.9951, 0.9894]])\n"
     ]
    }
   ],
   "source": [
    "# Iterate through the results and print the detected objects' class labels and bounding boxes\n",
    "for result in results:\n",
    "    # Access the detected boxes from the result\n",
    "    boxes = result.boxes\n",
    "    for box in boxes:\n",
    "        class_id = int(box.cls.item())  # Class ID of the detected object\n",
    "        class_name = model.names[class_id]  # Get the class name (e.g., 'person', 'car', etc.)\n",
    "        # confidence = box.confidence  # Confidence score of the detection\n",
    "        # xyxy = box.xyxy  # Bounding box coordinates (x1, y1, x2, y2)\n",
    "\n",
    "        # # Print the detected object information\n",
    "        # print(f\"Detected {class_name} with confidence {confidence:.2f} at {xyxy}\")\n",
    "        print(class_name, box)"
   ]
  },
  {
   "cell_type": "code",
   "execution_count": 16,
   "metadata": {},
   "outputs": [],
   "source": [
    "for result in results:\n",
    "    result.show()"
   ]
  },
  {
   "cell_type": "code",
   "execution_count": null,
   "metadata": {},
   "outputs": [],
   "source": []
  }
 ],
 "metadata": {
  "kernelspec": {
   "display_name": "yolo_venv",
   "language": "python",
   "name": "yolo_venv"
  },
  "language_info": {
   "codemirror_mode": {
    "name": "ipython",
    "version": 3
   },
   "file_extension": ".py",
   "mimetype": "text/x-python",
   "name": "python",
   "nbconvert_exporter": "python",
   "pygments_lexer": "ipython3",
   "version": "3.10.9"
  }
 },
 "nbformat": 4,
 "nbformat_minor": 2
}
